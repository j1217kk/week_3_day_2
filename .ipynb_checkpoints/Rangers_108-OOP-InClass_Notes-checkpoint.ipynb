{
 "cells": [
  {
   "cell_type": "markdown",
   "metadata": {},
   "source": [
    "# Object-Oriented-Programming (OOP)"
   ]
  },
  {
   "cell_type": "markdown",
   "metadata": {},
   "source": [
    "## Tasks Today:\n",
    "\n",
    "   \n",
    "\n",
    "1) <b>Creating a Class (Initializing/Declaring)</b> <br>\n",
    "2) <b>Using a Class (Instantiating)</b> <br>\n",
    " &nbsp;&nbsp;&nbsp;&nbsp; a) Creating One Instance <br>\n",
    " &nbsp;&nbsp;&nbsp;&nbsp; b) Creating Multiple Instances <br>\n",
    " &nbsp;&nbsp;&nbsp;&nbsp; c) In-Class Exercise #1 - Create a Class 'Car' and instantiate three different makes of cars <br>\n",
    "3) <b>The \\__init\\__() Method</b> <br>\n",
    " &nbsp;&nbsp;&nbsp;&nbsp; a) The 'self' Attribute <br>\n",
    "4) <b>Class Attributes</b> <br>\n",
    " &nbsp;&nbsp;&nbsp;&nbsp; a) Initializing Attributes <br>\n",
    " &nbsp;&nbsp;&nbsp;&nbsp; b) Setting an Attribute Outside of the \\__init\\__() Method <br>\n",
    " &nbsp;&nbsp;&nbsp;&nbsp; c) Setting Defaults for Attributes <br>\n",
    " &nbsp;&nbsp;&nbsp;&nbsp; d) Accessing Class Attributes <br>\n",
    " &nbsp;&nbsp;&nbsp;&nbsp; e) Changing Class Attributes <br>\n",
    " &nbsp;&nbsp;&nbsp;&nbsp; f) In-Class Exercise #2 - Add a color and wheels attribute to your 'Car' class <br>\n",
    "5) <b>Class Methods</b> <br>\n",
    " &nbsp;&nbsp;&nbsp;&nbsp; a) Creating <br>\n",
    " &nbsp;&nbsp;&nbsp;&nbsp; b) Calling <br>\n",
    " &nbsp;&nbsp;&nbsp;&nbsp; c) Modifying an Attribute's Value Through a Method <br>\n",
    " &nbsp;&nbsp;&nbsp;&nbsp; d) Incrementing an Attribute's Value Through a Method <br>\n",
    " &nbsp;&nbsp;&nbsp;&nbsp; e) In-Class Exercise #3 - Add a method that prints the cars color and wheel number, then call them <br>\n",
    "6) <b>Inheritance</b> <br>\n",
    " &nbsp;&nbsp;&nbsp;&nbsp; a) Syntax for Inheriting from a Parent Class <br>\n",
    " &nbsp;&nbsp;&nbsp;&nbsp; b) The \\__init\\__() Method for a Child Class (super()) <br>\n",
    " &nbsp;&nbsp;&nbsp;&nbsp; c) Defining Attributes and Methods for the Child Class <br>\n",
    " &nbsp;&nbsp;&nbsp;&nbsp; d) Method Overriding <br>\n",
    " &nbsp;&nbsp;&nbsp;&nbsp; e) In-Class Exercise #4 - Create a class 'Ford' that inherits from 'Car' class and initialize it as a Blue Ford Explorer with 4 wheels using the super() method <br>\n",
    "7) <b>Classes as Attributes</b> <br>\n",
    "8) <b>Exercises</b> <br>\n",
    " &nbsp;&nbsp;&nbsp;&nbsp; a) Exercise #1 - Turn the shopping cart program from last week into an object-oriented program <br>"
   ]
  },
  {
   "cell_type": "markdown",
   "metadata": {},
   "source": [
    "## Creating a Class (Initializing/Declaring)\n",
    "<p>When creating a class, function, or even a variable you are initializing that object. Initializing and Declaring occur at the same time in Python, whereas in lower level languages you have to declare an object before initializing it. This is the first step in the process of using a class.</p>"
   ]
  },
  {
   "cell_type": "code",
   "execution_count": 3,
   "metadata": {},
   "outputs": [],
   "source": [
    "class Car():\n",
    "    wheels = 4\n",
    "    color = 'blue'"
   ]
  },
  {
   "cell_type": "markdown",
   "metadata": {},
   "source": [
    "## Using a Class (Instantiating)\n",
    "<p>The process of creating a class is called <i>Instantiating</i>. Each time you create a variable of that type of class, it is referred to as an <i>Instance</i> of that class. This is the second step in the process of using a class.</p>"
   ]
  },
  {
   "cell_type": "markdown",
   "metadata": {},
   "source": [
    "##### Creating One Instance"
   ]
  },
  {
   "cell_type": "code",
   "execution_count": 4,
   "metadata": {},
   "outputs": [
    {
     "name": "stdout",
     "output_type": "stream",
     "text": [
      "4\n",
      "blue\n"
     ]
    }
   ],
   "source": [
    "ford = Car()\n",
    "print(ford.wheels)\n",
    "print(ford.color)\n"
   ]
  },
  {
   "cell_type": "markdown",
   "metadata": {},
   "source": [
    "##### Creating Multiple Instances"
   ]
  },
  {
   "cell_type": "code",
   "execution_count": 5,
   "metadata": {},
   "outputs": [
    {
     "name": "stdout",
     "output_type": "stream",
     "text": [
      "blue\n",
      "4\n"
     ]
    }
   ],
   "source": [
    "mazda = Car()\n",
    "\n",
    "honda = Car()\n",
    "\n",
    "mclaren = Car()\n",
    "\n",
    "print(mazda.color)\n",
    "print(mclaren.wheels)\n"
   ]
  },
  {
   "cell_type": "markdown",
   "metadata": {},
   "source": [
    "##### In-Class Exercise #1 - Create a Class 'Car' and Instantiate three different makes of cars"
   ]
  },
  {
   "cell_type": "code",
   "execution_count": 10,
   "metadata": {},
   "outputs": [
    {
     "name": "stdout",
     "output_type": "stream",
     "text": [
      "{'model': 'Genesis Coupe 3.8L', 'color': 'Slate Grey', 'doors': 2, 'horsepower': 360}\n",
      "{'model': 'Accord', 'color': 'Silver', 'doors': 4, 'horsepower': 200}\n",
      "{'model': 'M3', 'color': 'Black', 'doors': 4, 'horsepower': 470}\n"
     ]
    }
   ],
   "source": [
    "class Car():\n",
    "    def __init__(self, model, color, doors, horsepower):\n",
    "        self.model = model\n",
    "        self.color = color\n",
    "        self.doors = doors\n",
    "        self.horsepower = horsepower\n",
    "\n",
    "hyundai = Car(\"Genesis Coupe 3.8L\", \"Slate Grey\", 2, 360 )\n",
    "honda = Car(\"Accord\", \"Silver\", 4, 200)\n",
    "bmw = Car(\"M3\", \"Black\", 4, 470)\n",
    "\n",
    "print(hyundai.__dict__)\n",
    "print(honda.__dict__)\n",
    "print(bmw.__dict__)"
   ]
  },
  {
   "cell_type": "markdown",
   "metadata": {},
   "source": [
    "## The \\__init\\__() Method <br>\n",
    "<p>This method is used in almost every created class, and called only once upon the creation of the class instance. This method will initialize all variables needed for the object.</p>"
   ]
  },
  {
   "cell_type": "code",
   "execution_count": 8,
   "metadata": {},
   "outputs": [
    {
     "name": "stdout",
     "output_type": "stream",
     "text": [
      "Blue\n",
      "Red\n",
      "Green\n",
      "Silver\n",
      "{'wheels': 4, 'color': 'Blue', 'doors': 4}\n"
     ]
    }
   ],
   "source": [
    "class Car():\n",
    "    def __init__(self, wheels, color, doors):\n",
    "        self.wheels = wheels\n",
    "        self.color = color\n",
    "        self.doors = doors\n",
    "# mazda = Car() this on its own will give error, need attributes\n",
    "mazda = Car(4, \"Blue\", 4)\n",
    "print(mazda.color)\n",
    "mclaren = Car(4, \"Red\", 2)\n",
    "honda = Car(4, \"Green\", 4)\n",
    "ford = Car(6, \"Silver\", 4)\n",
    "\n",
    "print(mclaren.color)\n",
    "print(honda.color)\n",
    "print(ford.color)\n",
    "\n",
    "print(mazda.__dict__) #special method. double underscores"
   ]
  },
  {
   "cell_type": "markdown",
   "metadata": {},
   "source": [
    "##### The 'self' Attribute <br>\n",
    "<p>This attribute is required to keep track of specific instance's attributes. Without the self attribute, the program would not know how to reference or keep track of an instance's attributes.</p>"
   ]
  },
  {
   "cell_type": "code",
   "execution_count": 17,
   "metadata": {},
   "outputs": [
    {
     "name": "stdout",
     "output_type": "stream",
     "text": [
      "self is referencing the object <__main__.Pokemon object at 0x000001F323938700>, Charmander\n",
      "fire\n",
      "self is referencing the object <__main__.Pokemon object at 0x000001F323938EB0>, Squirtle\n",
      "water\n",
      "<__main__.Pokemon object at 0x000001F323938EB0>\n"
     ]
    }
   ],
   "source": [
    "class Pokemon():\n",
    "    IS_POKEMON = True #anything before init is a constant and is not likely to change. IN CAPS\n",
    "    def __init__(self, name, type_): #type is a reserved word, so using type_\n",
    "        #self is going to hold the place of the object we instantiate\n",
    "        self.name = name\n",
    "        self.type_ = type_\n",
    "        print(f\"self is referencing the object {self}, {self.name}\") #anything inside init is called when we call function\n",
    "        print(self.type_)\n",
    "        \n",
    "charmander = Pokemon('Charmander', 'fire')\n",
    "squirtle = Pokemon('Squirtle', 'water')"
   ]
  },
  {
   "cell_type": "markdown",
   "metadata": {},
   "source": [
    "## Class Attributes <br>\n",
    "<p>While variables are inside of a class, they are referred to as attributes and not variables. When someone says 'attribute' you know they're speaking about a class. Attributes can be initialized through the init method, or outside of it.</p>"
   ]
  },
  {
   "cell_type": "markdown",
   "metadata": {},
   "source": [
    "##### Initializing Attributes"
   ]
  },
  {
   "cell_type": "code",
   "execution_count": 18,
   "metadata": {},
   "outputs": [
    {
     "name": "stdout",
     "output_type": "stream",
     "text": [
      "self is referencing the object <__main__.Pokemon object at 0x000001F323938E80>, Bulbasaur\n",
      "grass\n"
     ]
    }
   ],
   "source": [
    "# see above\n",
    "bulbasaur = Pokemon(\"Bulbasaur\", \"grass\")"
   ]
  },
  {
   "cell_type": "markdown",
   "metadata": {},
   "source": [
    "##### Accessing Class Attributes"
   ]
  },
  {
   "cell_type": "code",
   "execution_count": 21,
   "metadata": {
    "scrolled": true
   },
   "outputs": [
    {
     "name": "stdout",
     "output_type": "stream",
     "text": [
      "Bulbasaur\n",
      "grass\n",
      "{'name': 'Bulbasaur', 'type_': 'grass'}\n"
     ]
    }
   ],
   "source": [
    "# See Above\n",
    "\n",
    "print(bulbasaur.name)\n",
    "print(bulbasaur.type_)\n",
    "print(bulbasaur.__dict__)"
   ]
  },
  {
   "cell_type": "markdown",
   "metadata": {},
   "source": [
    "##### Setting Defaults for Attributes"
   ]
  },
  {
   "cell_type": "code",
   "execution_count": 23,
   "metadata": {},
   "outputs": [
    {
     "name": "stdout",
     "output_type": "stream",
     "text": [
      "Blue\n",
      "4\n"
     ]
    }
   ],
   "source": [
    "class Car():\n",
    "    def __init__(self, wheels):\n",
    "        self.wheels = wheels\n",
    "        self.color = \"Blue\" #when setting it in here, do not need to put it in positional\n",
    "                            #default comes last\n",
    "        \n",
    "honda = Car(4)\n",
    "print(honda.color)\n",
    "print(honda.wheels)\n",
    "# mazda = Car(3, \"red\") does not work because expecting 2 positionals"
   ]
  },
  {
   "cell_type": "code",
   "execution_count": 27,
   "metadata": {},
   "outputs": [
    {
     "name": "stdout",
     "output_type": "stream",
     "text": [
      "Red\n",
      "4\n",
      "Blue\n"
     ]
    }
   ],
   "source": [
    "class Car():\n",
    "    def __init__(self, wheels, color = \"Red\"): #can set default in positional as well. default comes last\n",
    "        self.wheels = wheels\n",
    "        self.color = color\n",
    "\n",
    "ford = Car(4)\n",
    "print(ford.color)\n",
    "print(ford.wheels)\n",
    "\n",
    "mazda = Car(3, \"Blue\")\n",
    "print(mazda.color)"
   ]
  },
  {
   "cell_type": "markdown",
   "metadata": {},
   "source": [
    "##### Changing Class Attributes <br>\n",
    "<p>Keep in mind there are global class attributes and then there are attributes only available to each class instance which won't effect other classes.</p>"
   ]
  },
  {
   "cell_type": "code",
   "execution_count": 28,
   "metadata": {},
   "outputs": [
    {
     "name": "stdout",
     "output_type": "stream",
     "text": [
      "before attribute change Blue\n",
      "after attribute change Red\n"
     ]
    }
   ],
   "source": [
    "class Car():\n",
    "    def __init__(self, wheels):\n",
    "        self.wheels = wheels\n",
    "        self.color = \"Blue\"\n",
    "\n",
    "honda = Car(4)\n",
    "#change our default attribute\n",
    "print(f\"before attribute change {honda.color}\")\n",
    "honda.color = \"Red\"\n",
    "print(f\"after attribute change {honda.color}\")\n",
    "\n",
    "#THIS METHOD OF CHANGING ATTRIBUTES IS NON-PYTHONIC AND NOT RECOMMENDED. ATTRIBUTES SHOULD BE CHANGED INSIDE CLASSES\n"
   ]
  },
  {
   "cell_type": "code",
   "execution_count": null,
   "metadata": {},
   "outputs": [],
   "source": []
  },
  {
   "cell_type": "markdown",
   "metadata": {},
   "source": [
    "##### In-Class Exercise #2 - Add two new attributes to your 'Car' class then print out two different instances with different doors and seats. Then take that bad boy to the shop and change those attributes. Either with an input or just by changing them\n"
   ]
  },
  {
   "cell_type": "code",
   "execution_count": 35,
   "metadata": {},
   "outputs": [
    {
     "name": "stdout",
     "output_type": "stream",
     "text": [
      "4\n",
      "2\n",
      "Red\n",
      "2\n",
      "How many doors does your Toyota have?4\n",
      "Your silver Toyota has 4 doors and 2 seats.\n"
     ]
    }
   ],
   "source": [
    "class Car():\n",
    "    def __init__(self, doors, seats, color):\n",
    "        self.doors = doors\n",
    "        self.seats = seats\n",
    "        self.color = color\n",
    "\n",
    "mazda = Car(4, 5, \"black\")\n",
    "toyota = Car(2, 4, \"silver\")\n",
    "print(mazda.doors)\n",
    "print(toyota.doors)\n",
    "\n",
    "mazda.color = \"Red\"\n",
    "toyota.seats = 2\n",
    "print(mazda.color)\n",
    "print(toyota.seats)\n",
    "\n",
    "x = int(input(\"How many doors does your Toyota have? \"))\n",
    "toyota.doors = x\n",
    "print(f\"Your {toyota.color} Toyota has {toyota.doors} doors and {toyota.seats} seats.\")"
   ]
  },
  {
   "cell_type": "markdown",
   "metadata": {},
   "source": [
    "## Class Methods <br>\n",
    "<p>While inside of a class, functions are referred to as 'methods'. If you hear someone mention methods, they're speaking about classes. Methods are essentially functions, but only callable on the instances of a class.</p>"
   ]
  },
  {
   "cell_type": "markdown",
   "metadata": {},
   "source": [
    "##### Creating"
   ]
  },
  {
   "cell_type": "code",
   "execution_count": 41,
   "metadata": {},
   "outputs": [],
   "source": [
    "class Bus():\n",
    "    '''\n",
    "    This bus will have doors, seats, seats available, color, and a bus driver.\n",
    "    Attributes for the bus:\n",
    "    -- doors: integer\n",
    "    -- seats: integer\n",
    "    -- seats available: integer\n",
    "    -- color: string\n",
    "    -- bus driver: string\n",
    "    '''\n",
    "    def __init__(self, doors, seats, seats_available, color, bus_driver):\n",
    "        self.doors = doors\n",
    "        self.seats = seats\n",
    "        self.seats_available = seats_available\n",
    "        self.color = color\n",
    "        self.bus_driver = bus_driver\n",
    "    #decrement the number of seats available\n",
    "    def load_passengers(self):\n",
    "        if self.seats_available <= 0:\n",
    "            print(\"This bus is full! You can't take any more passengers :( \")\n",
    "            if self.seats_available < 0:\n",
    "                print(f\"You left {abs(self.seats_available)} passengers by the road!\")\n",
    "                self.seats_avilable = 0\n",
    "        else:\n",
    "            passengers = int(input(\"How many passengers are getting on? \"))\n",
    "            self.seats_available -= passengers\n",
    "            print(f\"{passengers} passengers have boarded. There are {self.seats_available} seats left on the bus. \")\n",
    "    #increment the number of seats available\n",
    "    def unload_passengers(self):\n",
    "        if self.seats_available >= self.seats:\n",
    "            print(\"There is no one on the bus to unload\")\n",
    "        else:\n",
    "            unload = int(input(\"How many passengers are getting off the bus? \"))\n",
    "            self.seats_available += unload\n",
    "            if self.seats_available >= self.seats:\n",
    "                self.seats_available = self.seats\n",
    "            print(f\"{unload} passengers have left the bus. There are {self.seats_available} seats left.\")\n",
    "    #change the bus_driver attribute\n",
    "    def change_driver(self):\n",
    "        change = input(\"Who is replacing you? \")\n",
    "        self.bus_driver = change\n",
    "        print(f\"The new bus driver is {self.bus_driver}. Be sure to thank them! \")\n",
    "    #display available seats\n",
    "    def check_seats(self):\n",
    "        print(f\"There are {self.seats_available} seats available. \")\n",
    "    #display bus color\n",
    "    def admire_bus(self):\n",
    "        print(f\"Would you just look at that beautiful {self.color} bus!\")\n",
    "\n",
    "\n",
    "        \n",
    "bus_a = Bus(2, 90, 45, 'yellow', 'John')\n",
    "        \n",
    "            \n",
    "            \n",
    "            "
   ]
  },
  {
   "cell_type": "markdown",
   "metadata": {},
   "source": [
    "##### Calling"
   ]
  },
  {
   "cell_type": "code",
   "execution_count": 40,
   "metadata": {},
   "outputs": [
    {
     "name": "stdout",
     "output_type": "stream",
     "text": [
      "What would you like to do? Load/Unload/Change Driver/Check Seats/Admire/Quit? load\n",
      "How many passengers are getting on? 100\n",
      "100 passengers have boarded. There are -55 seats left on the bus. \n",
      "What would you like to do? Load/Unload/Change Driver/Check Seats/Admire/Quit? unload\n",
      "How many passengers are getting off the bus? 5\n",
      "5 passengers have left the bus. There are -50 seats left.\n",
      "What would you like to do? Load/Unload/Change Driver/Check Seats/Admire/Quit? unload\n",
      "How many passengers are getting off the bus? 50\n",
      "50 passengers have left the bus. There are 0 seats left.\n",
      "What would you like to do? Load/Unload/Change Driver/Check Seats/Admire/Quit? check seats\n",
      "There are 0 eats available. \n",
      "What would you like to do? Load/Unload/Change Driver/Check Seats/Admire/Quit? admire\n",
      "Would you just look at that beautiful yellow bus!\n",
      "What would you like to do? Load/Unload/Change Driver/Check Seats/Admire/Quit? quit\n",
      "Oh no! There are still passengers  to be picked up. Please don't abandon them!\n"
     ]
    }
   ],
   "source": [
    "# See Above\n",
    "# creating our Run function\n",
    "def run():\n",
    "    while True:\n",
    "        response = input(\"What would you like to do? Load/Unload/Change Driver/Check Seats/Admire/Quit? \")\n",
    "        if response.lower() == 'quit':\n",
    "            print(\"Oh no! There are still passengers  to be picked up. Please don't abandon them!\")\n",
    "            break\n",
    "        elif response.lower() == 'load':\n",
    "            bus_a.load_passengers()\n",
    "        elif response.lower() == 'unload':\n",
    "            bus_a.unload_passengers()\n",
    "        elif response.lower() == 'change driver':\n",
    "            bus_a.change_driver()\n",
    "        elif response.lower() == 'check seats':\n",
    "            bus_a.check_seats()\n",
    "        elif response.lower() == 'admire':\n",
    "            bus_a.admire_bus()\n",
    "        else:\n",
    "            print(\"That is not a valid response. Please pick from the given commands. Thank you.\")\n",
    "            \n",
    "run()"
   ]
  },
  {
   "cell_type": "markdown",
   "metadata": {},
   "source": [
    "##### Modifying an Attribute's Value Through a Method"
   ]
  },
  {
   "cell_type": "code",
   "execution_count": null,
   "metadata": {},
   "outputs": [],
   "source": [
    "#see above\n",
    "# load_passengers()\n",
    "# unload_passengers()\n",
    "# change_driver()"
   ]
  },
  {
   "cell_type": "markdown",
   "metadata": {},
   "source": [
    "##### Incrementing an Attribute's Value Through a Method"
   ]
  },
  {
   "cell_type": "code",
   "execution_count": null,
   "metadata": {},
   "outputs": [],
   "source": [
    "# unload_passengers()"
   ]
  },
  {
   "cell_type": "markdown",
   "metadata": {},
   "source": [
    "##### In-Class Exercise #3 - Add a method that takes in three parameters of year, doors and seats and prints out a formatted print statement with make, model, year, seats, and doors"
   ]
  },
  {
   "cell_type": "code",
   "execution_count": 65,
   "metadata": {},
   "outputs": [
    {
     "name": "stdout",
     "output_type": "stream",
     "text": [
      "I seem to have forgotten... what is the make of your car again? Honda\n",
      "I seem to have forgotten... what is the model of your car again? Accord\n",
      "Ahh thats right... you have a Honda Accord\n"
     ]
    }
   ],
   "source": [
    "# Create class with 2 paramters inside of the __init__ which are make and model\n",
    "\n",
    "# Create two methods for your class\n",
    "\n",
    "# Create a method that alters an attribute for your class\n",
    "\n",
    "# Display method that prints information about the vehicle\n",
    "\n",
    "# Output: This car is from 2019 and is a Ford Expolorer and has 4 doors and 5 seats\n",
    "\n",
    "#reminder in order to call class methods instance.method()\n",
    "\n",
    "class Car():\n",
    "    def __init__ (self, make, model):\n",
    "        self.make = make\n",
    "        self.model = model\n",
    "    \n",
    "    def define_make(self):\n",
    "        new_make = input(\"I seem to have forgotten... what is the make of your car again? \")\n",
    "        self.make = new_make\n",
    "        \n",
    "      \n",
    "    def define_model(self):\n",
    "        new_model = input(\"I seem to have forgotten... what is the model of your car again? \")\n",
    "        self.model = new_model\n",
    "        \n",
    "\n",
    "car_1 = Car('Honda', 'Civic')\n",
    "\n",
    "def run():\n",
    "    car_1.define_make()\n",
    "    car_1.define_model()\n",
    "    print(f\"Ahh thats right... you have a {car_1.make} {car_1.model}\")\n",
    "    \n",
    "run()\n"
   ]
  },
  {
   "cell_type": "markdown",
   "metadata": {},
   "source": [
    "## Inheritance <br>\n",
    "<p>You can create a child-parent relationship between two classes by using inheritance. What this allows you to do is have overriding methods, but also inherit traits from the parent class. Think of it as an actual parent and child, the child will inherit the parent's genes, as will the classes in OOP</p>"
   ]
  },
  {
   "cell_type": "markdown",
   "metadata": {},
   "source": [
    "##### Syntax for Inheriting from a Parent Class"
   ]
  },
  {
   "cell_type": "code",
   "execution_count": 67,
   "metadata": {},
   "outputs": [],
   "source": [
    "class Animal: #parent class. classes do not need parantheses (). but CHILD classes DO need it. so good practice regardless\n",
    "    ACCELERATION = 9.8\n",
    "    def __init__(self, name, species, legs = 4):\n",
    "        self.name = name\n",
    "        self.species = species\n",
    "        self.legs = legs\n",
    "    #generic parent method\n",
    "    def make_sounds(self):\n",
    "        print(\"REEEEEEEE!\")\n",
    "\n",
    "class Dog(Animal): #child class\n",
    "    SPEED = 15\n",
    "    \n",
    "    def print_info(self):\n",
    "        print(f\"{self.name} runs at {self.SPEED} MPH and accelerates at {self.ACCELERATION} MPS^2\")\n",
    "        \n",
    "class Mutt(Dog): #grandhcild class\n",
    "    COLOR = 'light brown-ish'\n",
    "    \n",
    "    #access the Animal init class through the Dog class\n",
    "    def __init__(self, name, species, eye_color, legs = 4):\n",
    "        Dog.__init__(self, name, species, legs)\n",
    "        self.eye_color = eye_color\n",
    "    \n",
    "    #override make_sounds method\n",
    "    def make_sounds(self):\n",
    "        print(\"Ruff!\")\n",
    "        "
   ]
  },
  {
   "cell_type": "code",
   "execution_count": 75,
   "metadata": {},
   "outputs": [
    {
     "name": "stdout",
     "output_type": "stream",
     "text": [
      "9.8\n",
      "Greg\n",
      "REEEEEEEE!\n"
     ]
    }
   ],
   "source": [
    "#instantiating and access the parent class\n",
    "\n",
    "elephant = Animal('Greg', 'elephant')\n",
    "\n",
    "print(elephant.ACCELERATION)\n",
    "print(elephant.name)\n",
    "elephant.make_sounds()\n",
    "# print(elephant.SPEED) DOES NOT WORK"
   ]
  },
  {
   "cell_type": "code",
   "execution_count": 72,
   "metadata": {},
   "outputs": [
    {
     "name": "stdout",
     "output_type": "stream",
     "text": [
      "Precious runs at 15 MPH and accelerates at 9.8 MPS^2\n",
      "4\n",
      "15\n"
     ]
    }
   ],
   "source": [
    "#instantiating and access the child class with parent attributes\n",
    "maltese = Dog(\"Precious\", \"Maltese\")\n",
    "maltese.print_info()\n",
    "print(maltese.legs)\n",
    "print(maltese.SPEED) #WORKS"
   ]
  },
  {
   "cell_type": "code",
   "execution_count": 84,
   "metadata": {},
   "outputs": [
    {
     "name": "stdout",
     "output_type": "stream",
     "text": [
      "Ruff!\n",
      "Kiwi runs at 15 MPH and accelerates at 9.8 MPS^2\n",
      "Brown\n",
      "light brown-ish\n",
      "black-ish\n"
     ]
    }
   ],
   "source": [
    "kiwi = Mutt(\"Kiwi\", \"Dog\", \"Brown\")\n",
    "kiwi.make_sounds()\n",
    "kiwi.print_info()\n",
    "print(kiwi.eye_color)\n",
    "print(kiwi.COLOR)\n",
    "kiwi.COLOR = \"black-ish\"\n",
    "print(kiwi.COLOR)"
   ]
  },
  {
   "cell_type": "markdown",
   "metadata": {},
   "source": [
    "##### The \\__init\\__() Method for a Child Class - super()"
   ]
  },
  {
   "cell_type": "code",
   "execution_count": 87,
   "metadata": {
    "scrolled": true
   },
   "outputs": [
    {
     "name": "stdout",
     "output_type": "stream",
     "text": [
      "Eyo runs at 15 MPH and accelerates at 9.8 MPS^2\n"
     ]
    }
   ],
   "source": [
    "class Mutt(Dog): \n",
    "    COLOR = 'light brown-ish'\n",
    "    \n",
    "    #access the Animal init class through the Dog class\n",
    "    def __init__(self, name, species, eye_color, legs = 4):\n",
    "#       Dog.__init__(self, name, species, legs) #this directly references the init from the Dog, so we have to specify self still\n",
    "        super().__init__(name, species, legs) #super directly references the same init and instantiates as a function then positionally grabs speficialyl what it needs. Self is implied in Super\n",
    "        self.eye_color = eye_color\n",
    "    \n",
    "    #override make_sounds method\n",
    "    def make_sounds(self):\n",
    "        print(\"Ruff!\")\n",
    "\n",
    "eyo = Mutt(\"Eyo\", \"Dog\", \"brown\")\n",
    "eyo.print_info()"
   ]
  },
  {
   "cell_type": "markdown",
   "metadata": {},
   "source": [
    "##### Defining Attributes and Methods for the Child Class"
   ]
  },
  {
   "cell_type": "code",
   "execution_count": null,
   "metadata": {},
   "outputs": [],
   "source": [
    "# See Above"
   ]
  },
  {
   "cell_type": "markdown",
   "metadata": {},
   "source": [
    "##### Method Overriding"
   ]
  },
  {
   "cell_type": "code",
   "execution_count": null,
   "metadata": {},
   "outputs": [],
   "source": [
    "# See Above\n",
    "# see make_sounds in Mutt that overrides make_sounds in Animal"
   ]
  },
  {
   "cell_type": "markdown",
   "metadata": {},
   "source": [
    "## Classes as Attributes <br>\n",
    "<p>Classes can also be used as attributes within another class. This is useful in situations where you need to keep variables locally stored, instead of globally stored.</p>"
   ]
  },
  {
   "cell_type": "code",
   "execution_count": 96,
   "metadata": {},
   "outputs": [
    {
     "name": "stdout",
     "output_type": "stream",
     "text": [
      "20\n",
      "2022 Tesla Tesla 7x 20\n"
     ]
    }
   ],
   "source": [
    "class Battery():\n",
    "    VOLTZ = 7.8\n",
    "    \n",
    "    def __init__ (self, cells):\n",
    "        self.cells = cells\n",
    "    \n",
    "class Car():\n",
    "    def __init__ (self, year, make, model, battery):\n",
    "        self.year = year\n",
    "        self.make = make\n",
    "        self.model = model\n",
    "        self.battery = battery\n",
    "    \n",
    "    def print_info(self):\n",
    "        print(f\"{self.year} {self.make} {self.model} {self.battery.cells}\")\n",
    "        \n",
    "batt = Battery(20)\n",
    "\n",
    "tesla = Car(2022, \"Tesla\", \"Tesla 7x\", batt)\n",
    "\n",
    "# print(tesla.battery.__dict__)\n",
    "print(tesla.battery.cells)\n",
    "\n",
    "tesla.print_info()"
   ]
  },
  {
   "cell_type": "markdown",
   "metadata": {},
   "source": [
    "# Exercises"
   ]
  },
  {
   "cell_type": "markdown",
   "metadata": {},
   "source": [
    "### Exercise 1 - Turn the shopping cart program from yesterday into an object-oriented program\n",
    "\n",
    "The comments in the cell below are there as a guide for thinking about the problem. However, if you feel a different way is best for you and your own thought process, please do what feels best for you by all means."
   ]
  },
  {
   "cell_type": "code",
   "execution_count": 52,
   "metadata": {},
   "outputs": [
    {
     "name": "stdout",
     "output_type": "stream",
     "text": [
      "Welcome to the 'If You Can Type It We Have It' online store!! \n",
      "Specify whether you would like to ADD or REMOVE an item.\n",
      "(You can also type QUIT to checkout or SHOW to see your current cart): apple\n",
      "Specify whether you would like to ADD or REMOVE an item.\n",
      "(You can also type QUIT to checkout or SHOW to see your current cart): 10\n",
      "Specify whether you would like to ADD or REMOVE an item.\n",
      "(You can also type QUIT to checkout or SHOW to see your current cart): apple\n",
      "Specify whether you would like to ADD or REMOVE an item.\n",
      "(You can also type QUIT to checkout or SHOW to see your current cart): add\n",
      "\n",
      "What item would you like to add to your cart? apple\n",
      "How many Apple(s) would you like to add? 10\n",
      "\n",
      "Adding 10 Apple(s) to your cart...\n",
      "Specify whether you would like to ADD or REMOVE an item.\n",
      "(You can also type QUIT to checkout or SHOW to see your current cart): add\n",
      "\n",
      "What item would you like to add to your cart? banana\n",
      "How many Banana(s) would you like to add? 12\n",
      "\n",
      "Adding 12 Banana(s) to your cart...\n",
      "Specify whether you would like to ADD or REMOVE an item.\n",
      "(You can also type QUIT to checkout or SHOW to see your current cart): show\n",
      "\n",
      "----CURRENT SHOPPING CART----\n",
      "Apple (Qty. 10)\n",
      "Banana (Qty. 12)\n",
      "Specify whether you would like to ADD or REMOVE an item.\n",
      "(You can also type QUIT to checkout or SHOW to see your current cart): quit\n",
      "\n",
      "...............Thank you for shopping with us!\n",
      "----Here is your final cart!----\n",
      "Apple (Qty. 10)\n",
      "Banana (Qty. 12)\n"
     ]
    }
   ],
   "source": [
    "# Create a class called cart that retains items and has methods to add, remove, and show\n",
    "\n",
    "class Cart():\n",
    "    def __init__(self, shopper_name):\n",
    "        self.shopper_name = shopper_name\n",
    "        self.items = {}\n",
    "    \n",
    "    #add items\n",
    "    def add_item(self):\n",
    "        item = input(\"\\nWhat item would you like to add to your cart? \")\n",
    "        quantity = int(input(f\"How many {item.title()}(s) would you like to add? \"))\n",
    "        if item not in self.items:\n",
    "            print(f\"\\nAdding {quantity} {item.title()}(s) to your cart...\")\n",
    "            self.items.update({item: quantity})\n",
    "        elif item in self.items:\n",
    "            print(f\"\\nAdding {quantity} more {item.title()}(s) to your cart...\")\n",
    "            self.items[item] += quantity\n",
    "    #remove items\n",
    "    def remove_item(self):\n",
    "        item = input(\"\\nWhat item would you like to remove from your cart? \")\n",
    "        quantity = int(input(f\"How many {item.title()}(s) would you like to remove? \"))\n",
    "        if item in self.items:\n",
    "            if quantity < self.items[item] and quantity > 0:\n",
    "                print(f\"\\n{quantity} {item.title()}(s) have been removed from your cart.\")\n",
    "                self.items[item] -= quantity\n",
    "            elif quantity >= self.items[item]:\n",
    "                print(f\"\\n{item.title()}(s) are/is no longer in your cart.\")\n",
    "                del self.items[item]\n",
    "            else:\n",
    "                print(\"\\nPlease try entering a valid quantity. \")\n",
    "        else:\n",
    "            print(\"\\nThis item was never in your cart to begin with! \")\n",
    "    #show items/current cart\n",
    "    def show_items(self):\n",
    "        for item, quantity in self.items.items():\n",
    "            print(f\"{item.title()} (Qty. {quantity})\")\n",
    "            \n",
    "\n",
    "#run function to emulate customer experience\n",
    "def run():\n",
    "    print(\"Welcome to the 'If You Can Type It We Have It' online store!! \")\n",
    "    while True:\n",
    "        response = input(\"Specify whether you would like to ADD or REMOVE an item.\\n(You can also type QUIT to checkout or SHOW to see your current cart): \")\n",
    "        if response.lower() == 'quit':\n",
    "            print('\\n...............Thank you for shopping with us!')\n",
    "            print('----Here is your final cart!----')\n",
    "            first_cart.show_items()\n",
    "            break\n",
    "        elif response.lower() == 'add':\n",
    "            first_cart.add_item()\n",
    "        elif response.lower() == 'remove':\n",
    "            first_cart.remove_item()\n",
    "        elif response.lower() == 'show':\n",
    "            print(f\"\\n----CURRENT SHOPPING CART----\")\n",
    "            first_cart.show_items()\n",
    "\n",
    "            \n",
    "first_cart = Cart('John')\n",
    "\n",
    "run()\n",
    "    "
   ]
  },
  {
   "cell_type": "markdown",
   "metadata": {},
   "source": [
    "### Exercise 2 - Write a Python class which has two methods get_String and print_String. get_String accept a string from the user and print_String print the string in upper case"
   ]
  },
  {
   "cell_type": "code",
   "execution_count": 59,
   "metadata": {},
   "outputs": [
    {
     "name": "stdout",
     "output_type": "stream",
     "text": [
      "Give me a string to mutate later: asdaslknadlksfkasdnflkasdfklnasdlfknasdlkfnoqwehrioqwehroiqwehropiqhfasdjklhfkjasdhuiklqwhrkjlasdfjklakjqw\n",
      "The original string was:  \n",
      "'asdaslknadlksfkasdnflkasdfklnasdlfknasdlkfnoqwehrioqwehroiqwehropiqhfasdjklhfkjasdhuiklqwhrkjlasdfjklakjqw'\n",
      "Below is the same string in all uppercase: \n",
      "ASDASLKNADLKSFKASDNFLKASDFKLNASDLFKNASDLKFNOQWEHRIOQWEHROIQWEHROPIQHFASDJKLHFKJASDHUIKLQWHRKJLASDFJKLAKJQW\n"
     ]
    }
   ],
   "source": [
    "class Printer():\n",
    "    def __init__(self):\n",
    "        self.string = \"\"\n",
    "    \n",
    "    \n",
    "    def get_String(self):\n",
    "        result = input(\"Give me a string to mutate later: \")\n",
    "        self.string = result\n",
    "    \n",
    "    def print_String(self):\n",
    "        print(f\"The original string was:  \\n'{self.string}'\\nBelow is the same string in all uppercase: \")\n",
    "        print(f\"{self.string.upper()}\")\n",
    "\n",
    "x = Printer()\n",
    "\n",
    "def run():\n",
    "    x.get_String()\n",
    "    x.print_String()\n",
    "    \n",
    "run()"
   ]
  }
 ],
 "metadata": {
  "kernelspec": {
   "display_name": "Python 3 (ipykernel)",
   "language": "python",
   "name": "python3"
  },
  "language_info": {
   "codemirror_mode": {
    "name": "ipython",
    "version": 3
   },
   "file_extension": ".py",
   "mimetype": "text/x-python",
   "name": "python",
   "nbconvert_exporter": "python",
   "pygments_lexer": "ipython3",
   "version": "3.9.13"
  }
 },
 "nbformat": 4,
 "nbformat_minor": 2
}
